{
 "cells": [
  {
   "cell_type": "markdown",
   "metadata": {},
   "source": [
    "# graph_mate\n",
    "\n",
    "## Demo\n",
    "\n",
    "***\n",
    "\n",
    "First, we want to prepare some logging, so that we can see the output of what's going on."
   ]
  },
  {
   "cell_type": "code",
   "execution_count": 1,
   "metadata": {},
   "outputs": [],
   "source": [
    "import logging\n",
    "\n",
    "logging.basicConfig(format=\"%(message)s\")\n",
    "logging.getLogger().setLevel(logging.NOTSET)"
   ]
  },
  {
   "cell_type": "markdown",
   "metadata": {},
   "source": [
    "Next, we import the graph_mate library as well as numpy and pandas."
   ]
  },
  {
   "cell_type": "code",
   "execution_count": 2,
   "metadata": {},
   "outputs": [],
   "source": [
    "import graph_mate as gm\n",
    "import numpy as np\n",
    "import pandas as pd"
   ]
  },
  {
   "cell_type": "markdown",
   "metadata": {},
   "source": [
    "Next we import the graph from the Graph500 format.\n",
    "\n",
    "I have downloaded the graph and made it available locally.\n",
    "If you want to reproduce it, you would have to download it from the [LDBC Graphalytics site](https://ldbcouncil.org/benchmarks/graphalytics/#data-sets).\n",
    "\n",
    "We can now create a graph via `graph_mate` by loading from the local file.\n",
    "We also pass in `gm.Layout.Deduplicated` as additional parameter to tell `graph_mate` to create a sorted adjacency list and deduplicate parallel edges."
   ]
  },
  {
   "cell_type": "code",
   "execution_count": 3,
   "metadata": {},
   "outputs": [
    {
     "name": "stderr",
     "output_type": "stream",
     "text": [
      "Read 268435456 edges in 0.18s (17258.43 MB/s)\n",
      "Creating directed graph\n",
      "Computed degrees in 1.257856875s\n",
      "Computed prefix sum in 12.315625ms\n",
      "Computed target array in 2.315748708s\n",
      "Finalized offset array in 5.90425ms\n",
      "Sorted and deduplicated targets in 700.212083ms\n",
      "Created outgoing csr in 4.322286333s.\n",
      "Computed degrees in 1.050723958s\n",
      "Computed prefix sum in 11.21ms\n",
      "Computed target array in 1.526347875s\n",
      "Finalized offset array in 4.804791ms\n",
      "Sorted and deduplicated targets in 643.963208ms\n",
      "Created incoming csr in 3.254451416s.\n",
      "Created directed graph (node_count = 16777216, edge_count = 260379384)\n"
     ]
    }
   ],
   "source": [
    "g = gm.DiGraph.load('scale24.graph', layout = gm.Layout.Deduplicated)"
   ]
  },
  {
   "cell_type": "markdown",
   "metadata": {},
   "source": [
    "Now we can run PageRank on the graph."
   ]
  },
  {
   "cell_type": "code",
   "execution_count": 4,
   "metadata": {},
   "outputs": [
    {
     "name": "stderr",
     "output_type": "stream",
     "text": [
      "Finished iteration 0 with an error of 0.946463 in 159.495625ms\n",
      "Finished iteration 1 with an error of 0.114661 in 157.28725ms\n",
      "Finished iteration 2 with an error of 0.048918 in 156.766125ms\n",
      "Finished iteration 3 with an error of 0.020391 in 156.670958ms\n",
      "Finished iteration 4 with an error of 0.006081 in 157.068166ms\n",
      "Finished iteration 5 with an error of 0.001342 in 156.872375ms\n",
      "Finished iteration 6 with an error of 0.000232 in 156.805625ms\n",
      "Finished iteration 7 with an error of 0.000033 in 156.3265ms\n"
     ]
    }
   ],
   "source": [
    "pr_result  = g.page_rank()"
   ]
  },
  {
   "cell_type": "markdown",
   "metadata": {},
   "source": [
    "The result is a class that contains some properties about the execution of PageRank."
   ]
  },
  {
   "cell_type": "code",
   "execution_count": 5,
   "metadata": {},
   "outputs": [
    {
     "name": "stdout",
     "output_type": "stream",
     "text": [
      "PageRank ran iterations: 8\n",
      "PageRank computation took: 1282.766 ms\n"
     ]
    }
   ],
   "source": [
    "print(f\"PageRank ran iterations: {pr_result.ran_iterations}\")\n",
    "print(f\"PageRank computation took: {pr_result.micros / 1000.0} ms\")"
   ]
  },
  {
   "cell_type": "markdown",
   "metadata": {},
   "source": [
    "The `PageRankResult` has a `scores` method that returns the PageRank scores for all nodes.\n",
    "The scores are returned as a numpy array without making a copy of the data."
   ]
  },
  {
   "cell_type": "code",
   "execution_count": 6,
   "metadata": {},
   "outputs": [
    {
     "data": {
      "text/plain": [
       "array([1.0839086e-08, 8.9587342e-09, 8.9406953e-09, ..., 8.9406953e-09,\n",
       "       8.9746024e-09, 3.9346979e-08], dtype=float32)"
      ]
     },
     "execution_count": 6,
     "metadata": {},
     "output_type": "execute_result"
    }
   ],
   "source": [
    "pr_result.scores()"
   ]
  },
  {
   "cell_type": "markdown",
   "metadata": {},
   "source": [
    "Let's convert the scores to a pandas DataFrame."
   ]
  },
  {
   "cell_type": "code",
   "execution_count": 7,
   "metadata": {},
   "outputs": [
    {
     "data": {
      "text/html": [
       "<div>\n",
       "<style scoped>\n",
       "    .dataframe tbody tr th:only-of-type {\n",
       "        vertical-align: middle;\n",
       "    }\n",
       "\n",
       "    .dataframe tbody tr th {\n",
       "        vertical-align: top;\n",
       "    }\n",
       "\n",
       "    .dataframe thead th {\n",
       "        text-align: right;\n",
       "    }\n",
       "</style>\n",
       "<table border=\"1\" class=\"dataframe\">\n",
       "  <thead>\n",
       "    <tr style=\"text-align: right;\">\n",
       "      <th></th>\n",
       "      <th>page_rank</th>\n",
       "    </tr>\n",
       "  </thead>\n",
       "  <tbody>\n",
       "    <tr>\n",
       "      <th>0</th>\n",
       "      <td>1.083909e-08</td>\n",
       "    </tr>\n",
       "    <tr>\n",
       "      <th>1</th>\n",
       "      <td>8.958734e-09</td>\n",
       "    </tr>\n",
       "    <tr>\n",
       "      <th>2</th>\n",
       "      <td>8.940695e-09</td>\n",
       "    </tr>\n",
       "    <tr>\n",
       "      <th>3</th>\n",
       "      <td>9.364135e-09</td>\n",
       "    </tr>\n",
       "    <tr>\n",
       "      <th>4</th>\n",
       "      <td>8.940695e-09</td>\n",
       "    </tr>\n",
       "    <tr>\n",
       "      <th>...</th>\n",
       "      <td>...</td>\n",
       "    </tr>\n",
       "    <tr>\n",
       "      <th>16777211</th>\n",
       "      <td>8.950504e-09</td>\n",
       "    </tr>\n",
       "    <tr>\n",
       "      <th>16777212</th>\n",
       "      <td>8.940695e-09</td>\n",
       "    </tr>\n",
       "    <tr>\n",
       "      <th>16777213</th>\n",
       "      <td>8.940695e-09</td>\n",
       "    </tr>\n",
       "    <tr>\n",
       "      <th>16777214</th>\n",
       "      <td>8.974602e-09</td>\n",
       "    </tr>\n",
       "    <tr>\n",
       "      <th>16777215</th>\n",
       "      <td>3.934698e-08</td>\n",
       "    </tr>\n",
       "  </tbody>\n",
       "</table>\n",
       "<p>16777216 rows × 1 columns</p>\n",
       "</div>"
      ],
      "text/plain": [
       "             page_rank\n",
       "0         1.083909e-08\n",
       "1         8.958734e-09\n",
       "2         8.940695e-09\n",
       "3         9.364135e-09\n",
       "4         8.940695e-09\n",
       "...                ...\n",
       "16777211  8.950504e-09\n",
       "16777212  8.940695e-09\n",
       "16777213  8.940695e-09\n",
       "16777214  8.974602e-09\n",
       "16777215  3.934698e-08\n",
       "\n",
       "[16777216 rows x 1 columns]"
      ]
     },
     "execution_count": 7,
     "metadata": {},
     "output_type": "execute_result"
    }
   ],
   "source": [
    "scores = pd.DataFrame(pr_result.scores(), columns=['page_rank'])\n",
    "scores"
   ]
  },
  {
   "cell_type": "markdown",
   "metadata": {},
   "source": [
    "We can now calculate some statistics on the result"
   ]
  },
  {
   "cell_type": "code",
   "execution_count": 8,
   "metadata": {},
   "outputs": [
    {
     "name": "stdout",
     "output_type": "stream",
     "text": [
      "size = 16,777,216\n",
      "min = 8.940695295223122e-09\n",
      "max = 6.613731238758191e-05\n",
      "mean = 1.5777033013364417e-08\n",
      "median = 8.940695295223122e-09\n"
     ]
    }
   ],
   "source": [
    "print(f\"size = {scores.size:,}\")\n",
    "print(f\"min = {scores.min()['page_rank']}\")\n",
    "print(f\"max = {scores.max()['page_rank']}\")\n",
    "print(f\"mean = {scores.mean()['page_rank']}\")\n",
    "print(f\"median = {scores.median()['page_rank']}\")"
   ]
  },
  {
   "cell_type": "markdown",
   "metadata": {},
   "source": [
    "Now we want to run WCC on the graph."
   ]
  },
  {
   "cell_type": "code",
   "execution_count": 9,
   "metadata": {},
   "outputs": [
    {
     "name": "stderr",
     "output_type": "stream",
     "text": [
      "Afforest creation took 839.041µs\n",
      "Link subgraph took 83.779875ms\n",
      "Sample compress took 25.662541ms\n",
      "Largest intermediate component 0 containing approx. 32% of the graph.\n",
      "Get component took 323.25µs\n",
      "Link remaining took 43.314333ms\n",
      "Final compress took 6.803541ms\n"
     ]
    },
    {
     "name": "stdout",
     "output_type": "stream",
     "text": [
      "WCC computation took: 162.704 ms\n"
     ]
    }
   ],
   "source": [
    "wcc_result = g.wcc()\n",
    "print(f\"WCC computation took: {wcc_result.micros / 1000.0} ms\")"
   ]
  },
  {
   "cell_type": "markdown",
   "metadata": {},
   "source": [
    "Similar to the `PageRankResult`, we can get the component IDs for every nodes as a numpy array by calling the `components` method."
   ]
  },
  {
   "cell_type": "code",
   "execution_count": 10,
   "metadata": {},
   "outputs": [
    {
     "name": "stdout",
     "output_type": "stream",
     "text": [
      "size = 16,777,216\n",
      "component count = 7,909,210\n"
     ]
    }
   ],
   "source": [
    "components = wcc_result.components()\n",
    "components = pd.DataFrame(components, columns=['component'])\n",
    "\n",
    "\n",
    "print(f\"size = {components.size:,}\")\n",
    "unique_components = components.drop_duplicates()\n",
    "print(f\"component count = {unique_components.size:,}\")"
   ]
  },
  {
   "cell_type": "markdown",
   "metadata": {},
   "source": [
    "Now we want to count the total number of triangles in the graph.\n",
    "\n",
    "We have to convert the graph to an undirected graph first."
   ]
  },
  {
   "cell_type": "code",
   "execution_count": 11,
   "metadata": {},
   "outputs": [
    {
     "name": "stderr",
     "output_type": "stream",
     "text": [
      "Creating undirected graph\n",
      "Computed degrees in 1.208045583s\n",
      "Computed prefix sum in 10.864166ms\n",
      "Computed target array in 1.638902916s\n",
      "Finalized offset array in 2.873458ms\n",
      "Created csr in 2.862828791s.\n",
      "Created undirected graph (node_count = 16777216, edge_count = 260379384)\n"
     ]
    }
   ],
   "source": [
    "ug = g.to_undirected()"
   ]
  },
  {
   "cell_type": "markdown",
   "metadata": {},
   "source": [
    "If we are pressed for memory we can delete the directed graph.\n",
    "The undirected graph is not a view but a full copy of the graph."
   ]
  },
  {
   "cell_type": "code",
   "execution_count": 12,
   "metadata": {},
   "outputs": [],
   "source": [
    "del g"
   ]
  },
  {
   "cell_type": "markdown",
   "metadata": {},
   "source": [
    "Counting triangles benefits from an adjacency list that is sorted by degree.\n",
    "We can sort the adjacency list by calling the `reorder_by_degree` method.\n",
    "\n",
    "Note that `reorder_by_degree` modifies the graph in place can only run if there are no references to neighbors lists of any node."
   ]
  },
  {
   "cell_type": "code",
   "execution_count": 13,
   "metadata": {},
   "outputs": [
    {
     "name": "stdout",
     "output_type": "stream",
     "text": [
      "Graph cannot be reordered because there are references to this graph from neighbor lists.\n"
     ]
    }
   ],
   "source": [
    "neighbors = ug.neighbors(0)\n",
    "\n",
    "try:\n",
    "    ug.reorder_by_degree()\n",
    "except ValueError as e:\n",
    "    print(e)\n",
    "\n",
    "del neighbors"
   ]
  },
  {
   "cell_type": "code",
   "execution_count": 14,
   "metadata": {},
   "outputs": [
    {
     "name": "stderr",
     "output_type": "stream",
     "text": [
      "Relabel: sorted degree-node-pairs in 142.235083ms\n",
      "Relabel: built degrees and id map in 18.187791ms\n",
      "Relabel: built and sorted targets in 1.527368208s\n"
     ]
    }
   ],
   "source": [
    "ug.reorder_by_degree()"
   ]
  },
  {
   "cell_type": "markdown",
   "metadata": {},
   "source": [
    "Now we can count the number of global triangles in the graph."
   ]
  },
  {
   "cell_type": "code",
   "execution_count": 15,
   "metadata": {},
   "outputs": [
    {
     "name": "stderr",
     "output_type": "stream",
     "text": [
      "Computed 10,276,536,795 triangles in 60.788832666s\n"
     ]
    },
    {
     "name": "stdout",
     "output_type": "stream",
     "text": [
      "TC: found 10276536795 triangles in 60.789366 seconds\n"
     ]
    }
   ],
   "source": [
    "tc = ug.global_triangle_count()\n",
    "\n",
    "print(f\"TC: found {tc.triangles} triangles in {tc.micros / 1000.0 / 1000.0} seconds\")"
   ]
  }
 ],
 "metadata": {
  "kernelspec": {
   "display_name": "Python 3.9.15 ('.env': venv)",
   "language": "python",
   "name": "python3"
  },
  "language_info": {
   "codemirror_mode": {
    "name": "ipython",
    "version": 3
   },
   "file_extension": ".py",
   "mimetype": "text/x-python",
   "name": "python",
   "nbconvert_exporter": "python",
   "pygments_lexer": "ipython3",
   "version": "3.9.15"
  },
  "orig_nbformat": 4,
  "vscode": {
   "interpreter": {
    "hash": "bf1df6a269db11ba227de55e84c5aa1c0727841257377929be25a37ff2f81554"
   }
  }
 },
 "nbformat": 4,
 "nbformat_minor": 2
}
