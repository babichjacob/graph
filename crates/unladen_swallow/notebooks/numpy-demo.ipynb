{
 "cells": [
  {
   "cell_type": "markdown",
   "id": "21b22918",
   "metadata": {},
   "source": [
    "# Unladen Swallow"
   ]
  },
  {
   "cell_type": "code",
   "execution_count": 1,
   "id": "8a1eb97d",
   "metadata": {},
   "outputs": [],
   "source": [
    "# prepare logging\n",
    "\n",
    "import logging\n",
    "\n",
    "logging.basicConfig(format=\"%(message)s\")\n",
    "logging.getLogger().setLevel(logging.NOTSET)"
   ]
  },
  {
   "cell_type": "code",
   "execution_count": 2,
   "id": "c130f65a",
   "metadata": {},
   "outputs": [],
   "source": [
    "# import the module\n",
    "\n",
    "import graph_mate as gm"
   ]
  },
  {
   "cell_type": "code",
   "execution_count": 3,
   "id": "ace5bb07",
   "metadata": {},
   "outputs": [
    {
     "name": "stderr",
     "output_type": "stream",
     "text": [
      "Read 268435456 edges in 0.17s (18618.18 MB/s)\n",
      "Creating undirected graph\n",
      "Computed degrees in 2.296374875s\n",
      "Computed prefix sum in 7.422666ms\n",
      "Computed target array in 3.56508775s\n",
      "Finalized offset array in 2.024291ms\n",
      "Created csr in 5.872667333s.\n",
      "Created undirected graph (node_count = 16777216, edge_count = 268435456)\n"
     ]
    },
    {
     "data": {
      "text/plain": [
       "Graph { node_count: 16777216, edge_count: 268435456, load_took: 6.074077s }"
      ]
     },
     "execution_count": 3,
     "metadata": {},
     "output_type": "execute_result"
    }
   ],
   "source": [
    "# load an undirected graph\n",
    "g = gm.Graph.load(\"scale24.graph\")\n",
    "g"
   ]
  },
  {
   "cell_type": "code",
   "execution_count": 4,
   "id": "f965f012",
   "metadata": {},
   "outputs": [
    {
     "data": {
      "text/plain": [
       "24"
      ]
     },
     "execution_count": 4,
     "metadata": {},
     "output_type": "execute_result"
    }
   ],
   "source": [
    "# get degree of first node\n",
    "g.degree(0)"
   ]
  },
  {
   "cell_type": "code",
   "execution_count": 5,
   "id": "d74960b1",
   "metadata": {},
   "outputs": [
    {
     "name": "stderr",
     "output_type": "stream",
     "text": [
      "Relabel: sorted degree-node-pairs in 145.39925ms\n",
      "Relabel: built degrees and id map in 18.415083ms\n",
      "Relabel: built and sorted targets in 1.800907666s\n"
     ]
    }
   ],
   "source": [
    "# reorder the graph by degree\n",
    "g.reorder_by_degree()"
   ]
  },
  {
   "cell_type": "code",
   "execution_count": 6,
   "id": "ba9ee139",
   "metadata": {},
   "outputs": [
    {
     "data": {
      "text/plain": [
       "740377"
      ]
     },
     "execution_count": 6,
     "metadata": {},
     "output_type": "execute_result"
    }
   ],
   "source": [
    "# degree of the first node is now something else\n",
    "g.degree(0)"
   ]
  },
  {
   "cell_type": "code",
   "execution_count": 7,
   "id": "ea241338",
   "metadata": {},
   "outputs": [],
   "source": [
    "# get all neighbors of the first node, as a numpy array, doesn't create a copy\n",
    "a = g.neighbors(0)"
   ]
  },
  {
   "cell_type": "code",
   "execution_count": 8,
   "id": "1f175cee",
   "metadata": {},
   "outputs": [
    {
     "data": {
      "text/plain": [
       "740377"
      ]
     },
     "execution_count": 8,
     "metadata": {},
     "output_type": "execute_result"
    }
   ],
   "source": [
    "len(a)"
   ]
  },
  {
   "cell_type": "code",
   "execution_count": 9,
   "id": "04a27f09",
   "metadata": {},
   "outputs": [
    {
     "data": {
      "text/plain": [
       "404597075542"
      ]
     },
     "execution_count": 9,
     "metadata": {},
     "output_type": "execute_result"
    }
   ],
   "source": [
    "a.sum()"
   ]
  },
  {
   "cell_type": "code",
   "execution_count": 10,
   "id": "e7e17484",
   "metadata": {},
   "outputs": [],
   "source": [
    "# we can also get thenm as a python list, this does copy the data\n",
    "l = g.copy_neighbors(0)"
   ]
  },
  {
   "cell_type": "code",
   "execution_count": 11,
   "id": "add94c67",
   "metadata": {},
   "outputs": [],
   "source": [
    "# we can delete the graph and still use the neighbors\n",
    "del g"
   ]
  },
  {
   "cell_type": "code",
   "execution_count": 12,
   "id": "b6f5b285",
   "metadata": {},
   "outputs": [
    {
     "data": {
      "text/plain": [
       "740377"
      ]
     },
     "execution_count": 12,
     "metadata": {},
     "output_type": "execute_result"
    }
   ],
   "source": [
    "len(a)"
   ]
  },
  {
   "cell_type": "code",
   "execution_count": 13,
   "id": "a3d51c6f",
   "metadata": {},
   "outputs": [
    {
     "data": {
      "text/plain": [
       "404597075542"
      ]
     },
     "execution_count": 13,
     "metadata": {},
     "output_type": "execute_result"
    }
   ],
   "source": [
    "a.sum()"
   ]
  },
  {
   "cell_type": "code",
   "execution_count": 14,
   "id": "e8e3cbdd",
   "metadata": {},
   "outputs": [],
   "source": [
    "# now we can delete the neighbors list, which will remove the graph\n",
    "del a"
   ]
  }
 ],
 "metadata": {
  "kernelspec": {
   "display_name": "Python 3.9.15 ('.env': venv)",
   "language": "python",
   "name": "python3"
  },
  "language_info": {
   "codemirror_mode": {
    "name": "ipython",
    "version": 3
   },
   "file_extension": ".py",
   "mimetype": "text/x-python",
   "name": "python",
   "nbconvert_exporter": "python",
   "pygments_lexer": "ipython3",
   "version": "3.9.15"
  },
  "vscode": {
   "interpreter": {
    "hash": "bf1df6a269db11ba227de55e84c5aa1c0727841257377929be25a37ff2f81554"
   }
  }
 },
 "nbformat": 4,
 "nbformat_minor": 5
}
