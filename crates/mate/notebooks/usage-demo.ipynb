{
 "cells": [
  {
   "cell_type": "markdown",
   "metadata": {},
   "source": [
    "# graph_mate\n",
    "\n",
    "## Demo\n",
    "\n",
    "***\n",
    "\n",
    "First, we want to prepare some logging, so that we can see the output of what's going on."
   ]
  },
  {
   "cell_type": "code",
   "execution_count": 16,
   "metadata": {},
   "outputs": [],
   "source": [
    "import logging\n",
    "\n",
    "logging.basicConfig(format=\"%(message)s\")\n",
    "logging.getLogger().setLevel(logging.NOTSET)"
   ]
  },
  {
   "cell_type": "markdown",
   "metadata": {},
   "source": [
    "Next, we import the graph_mate library as well as numpy and pandas."
   ]
  },
  {
   "cell_type": "code",
   "execution_count": 17,
   "metadata": {},
   "outputs": [],
   "source": [
    "import graph_mate as gm\n",
    "import numpy as np\n",
    "import pandas as pd"
   ]
  },
  {
   "cell_type": "markdown",
   "metadata": {},
   "source": [
    "Next we import the graph from the Graph500 format.\n",
    "\n",
    "I have downloaded the graph and made it available locally.\n",
    "If you want to reproduce it, you would have to download it from the [LDBC Graphalytics site](https://ldbcouncil.org/benchmarks/graphalytics/#data-sets).\n",
    "\n",
    "We can now create a graph via `graph_mate` by loading from the local file.\n",
    "We also pass in `gm.Layout.Deduplicated` as additional parameter to tell `graph_mate` to create a sorted adjacency list and deduplicate parallel edges."
   ]
  },
  {
   "cell_type": "code",
   "execution_count": 18,
   "metadata": {},
   "outputs": [
    {
     "name": "stderr",
     "output_type": "stream",
     "text": [
      "Read 268435456 edges in 0.15s (20210.53 MB/s)\n",
      "Creating directed graph\n",
      "Computed degrees in 1.21316825s\n",
      "Computed prefix sum in 12.384875ms\n",
      "Computed target array in 2.208361083s\n",
      "Finalized offset array in 5.294916ms\n",
      "Sorted and deduplicated targets in 709.910583ms\n",
      "Created outgoing csr in 4.169330125s.\n",
      "Computed degrees in 1.037783s\n",
      "Computed prefix sum in 12.892791ms\n",
      "Computed target array in 1.509097916s\n",
      "Finalized offset array in 5.352583ms\n",
      "Sorted and deduplicated targets in 684.206625ms\n",
      "Created incoming csr in 3.26710475s.\n",
      "Created directed graph (node_count = 16777216, edge_count = 260379384)\n"
     ]
    }
   ],
   "source": [
    "g = gm.DiGraph.load('scale24.graph', layout = gm.Layout.Deduplicated)"
   ]
  },
  {
   "cell_type": "markdown",
   "metadata": {},
   "source": [
    "Now we can run PageRank on the graph."
   ]
  },
  {
   "cell_type": "code",
   "execution_count": 19,
   "metadata": {},
   "outputs": [
    {
     "name": "stderr",
     "output_type": "stream",
     "text": [
      "Finished iteration 0 with an error of 0.946452 in 160.698458ms\n",
      "Finished iteration 1 with an error of 0.114661 in 160.95875ms\n",
      "Finished iteration 2 with an error of 0.048925 in 158.569958ms\n",
      "Finished iteration 3 with an error of 0.020393 in 157.877708ms\n",
      "Finished iteration 4 with an error of 0.006081 in 159.295416ms\n",
      "Finished iteration 5 with an error of 0.001344 in 159.154333ms\n",
      "Finished iteration 6 with an error of 0.000232 in 158.412916ms\n",
      "Finished iteration 7 with an error of 0.000033 in 158.948666ms\n"
     ]
    }
   ],
   "source": [
    "pr_result  = g.page_rank()"
   ]
  },
  {
   "cell_type": "markdown",
   "metadata": {},
   "source": [
    "The result is a class that contains some properties about the execution of PageRank."
   ]
  },
  {
   "cell_type": "code",
   "execution_count": 20,
   "metadata": {},
   "outputs": [
    {
     "name": "stdout",
     "output_type": "stream",
     "text": [
      "PageRank ran iterations: 8\n",
      "PageRank computation took: 1310.405 ms\n"
     ]
    }
   ],
   "source": [
    "print(f\"PageRank ran iterations: {pr_result.ran_iterations}\")\n",
    "print(f\"PageRank computation took: {pr_result.micros / 1000.0} ms\")"
   ]
  },
  {
   "cell_type": "markdown",
   "metadata": {},
   "source": [
    "The `PageRankResult` has a `scores` method that returns the PageRank scores for all nodes.\n",
    "The scores are returned as a numpy array without making a copy of the data."
   ]
  },
  {
   "cell_type": "code",
   "execution_count": 21,
   "metadata": {},
   "outputs": [
    {
     "data": {
      "text/plain": [
       "array([1.0839086e-08, 8.9587342e-09, 8.9406953e-09, ..., 8.9406953e-09,\n",
       "       8.9746024e-09, 3.9346979e-08], dtype=float32)"
      ]
     },
     "execution_count": 21,
     "metadata": {},
     "output_type": "execute_result"
    }
   ],
   "source": [
    "pr_result.scores()"
   ]
  },
  {
   "cell_type": "markdown",
   "metadata": {},
   "source": [
    "Let's convert the scores to a pandas DataFrame."
   ]
  },
  {
   "cell_type": "code",
   "execution_count": 22,
   "metadata": {},
   "outputs": [
    {
     "data": {
      "text/html": [
       "<div>\n",
       "<style scoped>\n",
       "    .dataframe tbody tr th:only-of-type {\n",
       "        vertical-align: middle;\n",
       "    }\n",
       "\n",
       "    .dataframe tbody tr th {\n",
       "        vertical-align: top;\n",
       "    }\n",
       "\n",
       "    .dataframe thead th {\n",
       "        text-align: right;\n",
       "    }\n",
       "</style>\n",
       "<table border=\"1\" class=\"dataframe\">\n",
       "  <thead>\n",
       "    <tr style=\"text-align: right;\">\n",
       "      <th></th>\n",
       "      <th>page_rank</th>\n",
       "    </tr>\n",
       "  </thead>\n",
       "  <tbody>\n",
       "    <tr>\n",
       "      <th>0</th>\n",
       "      <td>1.083909e-08</td>\n",
       "    </tr>\n",
       "    <tr>\n",
       "      <th>1</th>\n",
       "      <td>8.958734e-09</td>\n",
       "    </tr>\n",
       "    <tr>\n",
       "      <th>2</th>\n",
       "      <td>8.940695e-09</td>\n",
       "    </tr>\n",
       "    <tr>\n",
       "      <th>3</th>\n",
       "      <td>9.364135e-09</td>\n",
       "    </tr>\n",
       "    <tr>\n",
       "      <th>4</th>\n",
       "      <td>8.940695e-09</td>\n",
       "    </tr>\n",
       "    <tr>\n",
       "      <th>...</th>\n",
       "      <td>...</td>\n",
       "    </tr>\n",
       "    <tr>\n",
       "      <th>16777211</th>\n",
       "      <td>8.950504e-09</td>\n",
       "    </tr>\n",
       "    <tr>\n",
       "      <th>16777212</th>\n",
       "      <td>8.940695e-09</td>\n",
       "    </tr>\n",
       "    <tr>\n",
       "      <th>16777213</th>\n",
       "      <td>8.940695e-09</td>\n",
       "    </tr>\n",
       "    <tr>\n",
       "      <th>16777214</th>\n",
       "      <td>8.974602e-09</td>\n",
       "    </tr>\n",
       "    <tr>\n",
       "      <th>16777215</th>\n",
       "      <td>3.934698e-08</td>\n",
       "    </tr>\n",
       "  </tbody>\n",
       "</table>\n",
       "<p>16777216 rows × 1 columns</p>\n",
       "</div>"
      ],
      "text/plain": [
       "             page_rank\n",
       "0         1.083909e-08\n",
       "1         8.958734e-09\n",
       "2         8.940695e-09\n",
       "3         9.364135e-09\n",
       "4         8.940695e-09\n",
       "...                ...\n",
       "16777211  8.950504e-09\n",
       "16777212  8.940695e-09\n",
       "16777213  8.940695e-09\n",
       "16777214  8.974602e-09\n",
       "16777215  3.934698e-08\n",
       "\n",
       "[16777216 rows x 1 columns]"
      ]
     },
     "execution_count": 22,
     "metadata": {},
     "output_type": "execute_result"
    }
   ],
   "source": [
    "scores = pd.DataFrame(pr_result.scores(), columns=['page_rank'])\n",
    "scores"
   ]
  },
  {
   "cell_type": "markdown",
   "metadata": {},
   "source": [
    "We can now calculate some statistics on the result"
   ]
  },
  {
   "cell_type": "code",
   "execution_count": 23,
   "metadata": {},
   "outputs": [
    {
     "name": "stdout",
     "output_type": "stream",
     "text": [
      "size = 16,777,216\n",
      "min = 8.940695295223122e-09\n",
      "max = 6.613731238758191e-05\n",
      "mean = 1.5777033013364417e-08\n",
      "median = 8.940695295223122e-09\n"
     ]
    }
   ],
   "source": [
    "print(f\"size = {scores.size:,}\")\n",
    "print(f\"min = {scores.min()['page_rank']}\")\n",
    "print(f\"max = {scores.max()['page_rank']}\")\n",
    "print(f\"mean = {scores.mean()['page_rank']}\")\n",
    "print(f\"median = {scores.median()['page_rank']}\")"
   ]
  },
  {
   "cell_type": "markdown",
   "metadata": {},
   "source": [
    "Now we want to run WCC on the graph."
   ]
  },
  {
   "cell_type": "code",
   "execution_count": 24,
   "metadata": {},
   "outputs": [
    {
     "name": "stderr",
     "output_type": "stream",
     "text": [
      "Afforest creation took 3.245916ms\n",
      "Link subgraph took 80.286125ms\n",
      "Sample compress took 22.694625ms\n",
      "Largest intermediate component 0 containing approx. 30% of the graph.\n",
      "Get component took 309.208µs\n",
      "Link remaining took 45.155166ms\n",
      "Final compress took 7.015708ms\n"
     ]
    },
    {
     "name": "stdout",
     "output_type": "stream",
     "text": [
      "WCC computation took: 160.718 ms\n"
     ]
    }
   ],
   "source": [
    "wcc_result = g.wcc()\n",
    "print(f\"WCC computation took: {wcc_result.micros / 1000.0} ms\")"
   ]
  },
  {
   "cell_type": "markdown",
   "metadata": {},
   "source": [
    "Similar to the `PageRankResult`, we can get the component IDs for every nodes as a numpy array by calling the `components` method."
   ]
  },
  {
   "cell_type": "code",
   "execution_count": 25,
   "metadata": {},
   "outputs": [
    {
     "name": "stdout",
     "output_type": "stream",
     "text": [
      "size = 16,777,216\n",
      "component count = 7,909,210\n"
     ]
    }
   ],
   "source": [
    "components = wcc_result.components()\n",
    "components = pd.DataFrame(components, columns=['component'])\n",
    "\n",
    "\n",
    "print(f\"size = {components.size:,}\")\n",
    "unique_components = components.drop_duplicates()\n",
    "print(f\"component count = {unique_components.size:,}\")"
   ]
  },
  {
   "cell_type": "markdown",
   "metadata": {},
   "source": [
    "Now we want to count the total number of triangles in the graph.\n",
    "\n",
    "We have to convert the graph to an undirected graph first."
   ]
  },
  {
   "cell_type": "code",
   "execution_count": 26,
   "metadata": {},
   "outputs": [
    {
     "name": "stderr",
     "output_type": "stream",
     "text": [
      "Creating undirected graph\n",
      "Computed degrees in 1.195006291s\n",
      "Computed prefix sum in 10.82375ms\n",
      "Computed target array in 1.649681333s\n",
      "Finalized offset array in 4.196625ms\n",
      "Sorted and deduplicated targets in 1.172783041s\n",
      "Created csr in 4.06167725s.\n",
      "Created undirected graph (node_count = 16777216, edge_count = 260379384)\n"
     ]
    }
   ],
   "source": [
    "ug = g.to_undirected(gm.Layout.Deduplicated)"
   ]
  },
  {
   "cell_type": "markdown",
   "metadata": {},
   "source": [
    "If we are pressed for memory we can delete the directed graph.\n",
    "The undirected graph is not a view but a full copy of the graph."
   ]
  },
  {
   "cell_type": "code",
   "execution_count": 27,
   "metadata": {},
   "outputs": [],
   "source": [
    "del g"
   ]
  },
  {
   "cell_type": "markdown",
   "metadata": {},
   "source": [
    "Counting triangles benefits from an adjacency list that is sorted by degree.\n",
    "We can sort the adjacency list by calling the `reorder_by_degree` method."
   ]
  },
  {
   "cell_type": "code",
   "execution_count": 29,
   "metadata": {},
   "outputs": [
    {
     "name": "stderr",
     "output_type": "stream",
     "text": [
      "Relabel: sorted degree-node-pairs in 140.854958ms\n",
      "Relabel: built degrees and id map in 19.011125ms\n",
      "Relabel: built and sorted targets in 1.41450125s\n"
     ]
    }
   ],
   "source": [
    "ug.reorder_by_degree()"
   ]
  },
  {
   "cell_type": "markdown",
   "metadata": {},
   "source": [
    "Now we can count the number of global triangles in the graph."
   ]
  },
  {
   "cell_type": "code",
   "execution_count": 30,
   "metadata": {},
   "outputs": [
    {
     "name": "stderr",
     "output_type": "stream",
     "text": [
      "Computed 10,276,536,795 triangles in 60.115516083s\n"
     ]
    },
    {
     "name": "stdout",
     "output_type": "stream",
     "text": [
      "TC: found 10276536795 triangles in 60.116013 seconds\n"
     ]
    }
   ],
   "source": [
    "tc = ug.global_triangle_count()\n",
    "\n",
    "print(f\"TC: found {tc.triangles} triangles in {tc.micros / 1000.0 / 1000.0} seconds\")"
   ]
  }
 ],
 "metadata": {
  "kernelspec": {
   "display_name": "Python 3.10.8 ('.env': venv)",
   "language": "python",
   "name": "python3"
  },
  "language_info": {
   "codemirror_mode": {
    "name": "ipython",
    "version": 3
   },
   "file_extension": ".py",
   "mimetype": "text/x-python",
   "name": "python",
   "nbconvert_exporter": "python",
   "pygments_lexer": "ipython3",
   "version": "3.10.8"
  },
  "orig_nbformat": 4,
  "vscode": {
   "interpreter": {
    "hash": "f63abc17a531eda10b8b39a5f394cf77401f5ce3bd31dc79eb9fef86088541e4"
   }
  }
 },
 "nbformat": 4,
 "nbformat_minor": 2
}
