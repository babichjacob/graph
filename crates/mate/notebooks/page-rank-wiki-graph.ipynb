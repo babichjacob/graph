{
 "cells": [
  {
   "cell_type": "markdown",
   "metadata": {},
   "source": [
    "# graph_mate\n",
    "\n",
    "## Running PageRank on wikipedia articles\n",
    "\n",
    "***\n",
    "\n",
    "This notebook replicates the benchmarks performed by memgraph and published on [Hackernews](https://news.ycombinator.com/item?id=33716570)."
   ]
  },
  {
   "cell_type": "markdown",
   "metadata": {},
   "source": [
    "First, we want to prepare some logging, so that we can see the output of what's going on."
   ]
  },
  {
   "cell_type": "code",
   "execution_count": 21,
   "metadata": {},
   "outputs": [],
   "source": [
    "import logging\n",
    "\n",
    "logging.basicConfig(format=\"%(message)s\")\n",
    "logging.getLogger().setLevel(logging.NOTSET)"
   ]
  },
  {
   "cell_type": "markdown",
   "metadata": {},
   "source": [
    "Next, we import the graph_mate library."
   ]
  },
  {
   "cell_type": "code",
   "execution_count": 22,
   "metadata": {},
   "outputs": [],
   "source": [
    "import graph_mate as gm"
   ]
  },
  {
   "cell_type": "markdown",
   "metadata": {},
   "source": [
    "Load the wikipedia-articles graph from disk. The graph is stored in the edge list format, where each line represents an edge, denoted by `<source_id> <target_id>`.\n",
    "\n",
    "The file has been converted from the exported Wikipedia Articles graph in memgraph labs. It is available as a [Gist](https://gist.github.com/s1ck/97e23af14b2e117fa47c713addef7517). Just download the file and put it in the same folder as the notebook."
   ]
  },
  {
   "cell_type": "code",
   "execution_count": 23,
   "metadata": {},
   "outputs": [
    {
     "name": "stderr",
     "output_type": "stream",
     "text": [
      "page_size = 4096, cpu_count = 16, chunk_size = 180224\n",
      "Read 310227 edges in 0.02s (117.29 MB/s)\n",
      "Creating directed graph\n",
      "Computed degrees in 871.992µs\n",
      "Computed prefix sum in 140.675µs\n",
      "Computed target array in 2.495239ms\n",
      "Finalized offset array in 20.068µs\n",
      "Created outgoing csr in 5.68147ms.\n",
      "Computed degrees in 1.349712ms\n",
      "Computed prefix sum in 173.496µs\n",
      "Computed target array in 1.870223ms\n",
      "Finalized offset array in 41.257µs\n",
      "Created incoming csr in 4.607016ms.\n",
      "Created directed graph (node_count = 78181, edge_count = 310227)\n"
     ]
    }
   ],
   "source": [
    "g = gm.DiGraph.load('wikipedia-articles.el', file_format = gm.FileFormat.EdgeList)"
   ]
  },
  {
   "cell_type": "markdown",
   "metadata": {},
   "source": [
    "Now we can run PageRank on the graph with the same configs that are used by memgraph."
   ]
  },
  {
   "cell_type": "code",
   "execution_count": 24,
   "metadata": {},
   "outputs": [
    {
     "name": "stderr",
     "output_type": "stream",
     "text": [
      "Finished iteration 0 with an error of 0.844404 in 597.305µs\n",
      "Finished iteration 1 with an error of 0.017353 in 459.055µs\n",
      "Finished iteration 2 with an error of 0.000000 in 441.342µs\n"
     ]
    },
    {
     "name": "stdout",
     "output_type": "stream",
     "text": [
      "PageRankResult { scores: \"[... 78181 values]\", ran_iterations: 3, error: 0.0, took: 3.347ms }\n",
      "Computation took 3.347 ms\n"
     ]
    }
   ],
   "source": [
    "pr_result  = g.page_rank(max_iterations = 100, tolerance = 1E-5)\n",
    "print(pr_result)\n",
    "print(f\"Computation took {pr_result.micros / 1000} ms\")"
   ]
  },
  {
   "cell_type": "code",
   "execution_count": 25,
   "metadata": {},
   "outputs": [
    {
     "name": "stdout",
     "output_type": "stream",
     "text": [
      "Node id=222 has the highest rank of 5.088145553600043e-05\n"
     ]
    }
   ],
   "source": [
    "import numpy as np\n",
    "\n",
    "node = np.argmax(pr_result.scores(), axis = 0)\n",
    "rank = pr_result.scores()[node]\n",
    "print(f\"Node id={node} has the highest rank of {rank}\")"
   ]
  }
 ],
 "metadata": {
  "kernelspec": {
   "display_name": "Python 3 (ipykernel)",
   "language": "python",
   "name": "python3"
  },
  "language_info": {
   "codemirror_mode": {
    "name": "ipython",
    "version": 3
   },
   "file_extension": ".py",
   "mimetype": "text/x-python",
   "name": "python",
   "nbconvert_exporter": "python",
   "pygments_lexer": "ipython3",
   "version": "3.8.10"
  },
  "vscode": {
   "interpreter": {
    "hash": "bf1df6a269db11ba227de55e84c5aa1c0727841257377929be25a37ff2f81554"
   }
  }
 },
 "nbformat": 4,
 "nbformat_minor": 2
}
